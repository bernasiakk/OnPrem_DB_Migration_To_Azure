{
 "cells": [
  {
   "cell_type": "markdown",
   "metadata": {
    "application/vnd.databricks.v1+cell": {
     "cellMetadata": {
      "byteLimit": 2048000,
      "rowLimit": 10000
     },
     "inputWidgets": {},
     "nuid": "d9f92be1-1446-4149-bfe9-a5d3263713df",
     "showTitle": false,
     "title": ""
    }
   },
   "source": [
    "Apply configuration"
   ]
  },
  {
   "cell_type": "code",
   "execution_count": null,
   "metadata": {
    "application/vnd.databricks.v1+cell": {
     "cellMetadata": {
      "byteLimit": 2048000,
      "rowLimit": 10000
     },
     "inputWidgets": {},
     "nuid": "45253964-fe3a-48ac-8b54-55cd762ed32d",
     "showTitle": false,
     "title": ""
    }
   },
   "outputs": [],
   "source": [
    "service_credential = dbutils.secrets.get(scope=\"scope\",key=\"sp-key\")\n",
    "\n",
    "configs = {\n",
    "    \"fs.azure.account.auth.type\": \"OAuth\",\n",
    "    \"fs.azure.account.oauth.provider.type\": \"org.apache.hadoop.fs.azurebfs.oauth2.ClientCredsTokenProvider\",\n",
    "    \"fs.azure.account.oauth2.client.id\": \"90eea98f-f307-43d2-8458-ec92e8d6b4f7\",\n",
    "    \"fs.azure.account.oauth2.client.secret\": service_credential,\n",
    "    \"fs.azure.account.oauth2.client.endpoint\": \"https://login.microsoftonline.com/81e25e44-b9a0-464e-a60e-258605044fe0/oauth2/token\"\n",
    "}"
   ]
  },
  {
   "cell_type": "markdown",
   "metadata": {
    "application/vnd.databricks.v1+cell": {
     "cellMetadata": {
      "byteLimit": 2048000,
      "rowLimit": 10000
     },
     "inputWidgets": {},
     "nuid": "bb3e8eb4-0445-478d-b0aa-80e667a1bea1",
     "showTitle": false,
     "title": ""
    }
   },
   "source": [
    "Mount bronze/silver/gold containers"
   ]
  },
  {
   "cell_type": "code",
   "execution_count": null,
   "metadata": {
    "application/vnd.databricks.v1+cell": {
     "cellMetadata": {
      "byteLimit": 2048000,
      "rowLimit": 10000
     },
     "inputWidgets": {},
     "nuid": "e2c0f39f-2cd1-4478-966e-5121c492b9f3",
     "showTitle": false,
     "title": ""
    }
   },
   "outputs": [
    {
     "data": {
      "text/plain": [
       "True"
      ]
     },
     "execution_count": 2,
     "metadata": {},
     "output_type": "execute_result"
    }
   ],
   "source": [
    "storage_acct_name = \"storagemigratione2e\"\n",
    "\n",
    "\n",
    "dbutils.fs.mount(\n",
    "    source=f\"abfss://bronze@{storage_acct_name}.dfs.core.windows.net\",\n",
    "    mount_point=\"/mnt/bronze\",\n",
    "    extra_configs=configs\n",
    ")\n",
    "\n",
    "dbutils.fs.mount(\n",
    "    source=f\"abfss://silver@{storage_acct_name}.dfs.core.windows.net\",\n",
    "    mount_point=\"/mnt/silver\",\n",
    "    extra_configs=configs\n",
    ")\n",
    "\n",
    "dbutils.fs.mount(\n",
    "    source=f\"abfss://gold@{storage_acct_name}.dfs.core.windows.net\",\n",
    "    mount_point=\"/mnt/gold\",\n",
    "    extra_configs=configs\n",
    ")"
   ]
  }
 ],
 "metadata": {
  "application/vnd.databricks.v1+notebook": {
   "dashboards": [],
   "environmentMetadata": {
    "base_environment": "",
    "client": "1"
   },
   "language": "python",
   "notebookMetadata": {
    "pythonIndentUnit": 4
   },
   "notebookName": "storage_mount",
   "widgets": {}
  },
  "language_info": {
   "name": "python"
  }
 },
 "nbformat": 4,
 "nbformat_minor": 0
}
