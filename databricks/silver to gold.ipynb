{
 "cells": [
  {
   "cell_type": "markdown",
   "metadata": {
    "application/vnd.databricks.v1+cell": {
     "cellMetadata": {},
     "inputWidgets": {},
     "nuid": "6b4d1068-c435-4f44-8c6f-a0889befdc14",
     "showTitle": false,
     "title": ""
    }
   },
   "source": [
    "change column names from _CamelCase_ to _snake_case_"
   ]
  },
  {
   "cell_type": "code",
   "execution_count": null,
   "metadata": {
    "application/vnd.databricks.v1+cell": {
     "cellMetadata": {
      "byteLimit": 2048000,
      "rowLimit": 10000
     },
     "inputWidgets": {},
     "nuid": "9a589c6a-26fc-47cd-9b15-65db0eded6de",
     "showTitle": false,
     "title": ""
    }
   },
   "outputs": [
    {
     "name": "stdout",
     "output_type": "stream",
     "text": [
      "FileInfo(path='dbfs:/mnt/silver/SalesLT/Address/', name='Address/', size=0, modificationTime=1724856120000)\n",
      "+----------+-----------------+-------------+-------+--------------+--------------+-----------+--------------------+-------------+\n",
      "|address_id|    address_line1|address_line2|   city|state_province|country_region|postal_code|             rowguid|modified_date|\n",
      "+----------+-----------------+-------------+-------+--------------+--------------+-----------+--------------------+-------------+\n",
      "|         9|8713 Yosemite Ct.|         NULL|Bothell|    Washington| United States|      98011|268af621-76d7-4c7...|   2006-07-01|\n",
      "+----------+-----------------+-------------+-------+--------------+--------------+-----------+--------------------+-------------+\n",
      "only showing top 1 row\n",
      "\n",
      "FileInfo(path='dbfs:/mnt/silver/SalesLT/Customer/', name='Customer/', size=0, modificationTime=1724856122000)\n",
      "+-----------+----------+-----+----------+-----------+---------+------+------------+--------------------+--------------------+------------+--------------------+-------------+--------------------+-------------+\n",
      "|customer_id|name_style|title|first_name|middle_name|last_name|suffix|company_name|        sales_person|       email_address|       phone|       password_hash|password_salt|             rowguid|modified_date|\n",
      "+-----------+----------+-----+----------+-----------+---------+------+------------+--------------------+--------------------+------------+--------------------+-------------+--------------------+-------------+\n",
      "|          1|     false|  Mr.|   Orlando|         N.|      Gee|  NULL|A Bike Store|adventure-works\\p...|orlando0@adventur...|245-555-0173|L/Rlwxzp4w7RWmEgX...|     1KjXYs4=|3f5ae95e-b87d-4ae...|   2005-08-01|\n",
      "+-----------+----------+-----+----------+-----------+---------+------+------------+--------------------+--------------------+------------+--------------------+-------------+--------------------+-------------+\n",
      "only showing top 1 row\n",
      "\n",
      "FileInfo(path='dbfs:/mnt/silver/SalesLT/CustomerAddress/', name='CustomerAddress/', size=0, modificationTime=1724856124000)\n",
      "+-----------+----------+------------+--------------------+-------------+\n",
      "|customer_id|address_id|address_type|             rowguid|modified_date|\n",
      "+-----------+----------+------------+--------------------+-------------+\n",
      "|      29485|      1086| Main Office|16765338-dbe4-442...|   2007-09-01|\n",
      "+-----------+----------+------------+--------------------+-------------+\n",
      "only showing top 1 row\n",
      "\n",
      "FileInfo(path='dbfs:/mnt/silver/SalesLT/Product/', name='Product/', size=0, modificationTime=1724856126000)\n",
      "+----------+--------------------+--------------+-----+-------------+----------+----+-------+-------------------+----------------+---------------+-------------+-----------------+--------------------+-------------------------+--------------------+-------------+\n",
      "|product_id|                name|product_number|color|standard_cost|list_price|size| weight|product_category_id|product_model_id|sell_start_date|sell_end_date|discontinued_date|    thumb_nail_photo|thumbnail_photo_file_name|             rowguid|modified_date|\n",
      "+----------+--------------------+--------------+-----+-------------+----------+----+-------+-------------------+----------------+---------------+-------------+-----------------+--------------------+-------------------------+--------------------+-------------+\n",
      "|       680|HL Road Frame - B...|    FR-R92B-58|Black|    1059.3100| 1431.5000|  58|1016.04|                 18|               6|     2002-06-01|         NULL|             NULL|[47 49 46 38 39 6...|     no_image_availabl...|43dd68d6-14a4-461...|   2008-03-11|\n",
      "+----------+--------------------+--------------+-----+-------------+----------+----+-------+-------------------+----------------+---------------+-------------+-----------------+--------------------+-------------------------+--------------------+-------------+\n",
      "only showing top 1 row\n",
      "\n",
      "FileInfo(path='dbfs:/mnt/silver/SalesLT/ProductCategory/', name='ProductCategory/', size=0, modificationTime=1724856128000)\n",
      "+-------------------+--------------------------+-----+--------------------+-------------+\n",
      "|product_category_id|parent_product_category_id| name|             rowguid|modified_date|\n",
      "+-------------------+--------------------------+-----+--------------------+-------------+\n",
      "|                  1|                      NULL|Bikes|cfbda25c-df71-47a...|   2002-06-01|\n",
      "+-------------------+--------------------------+-----+--------------------+-------------+\n",
      "only showing top 1 row\n",
      "\n",
      "FileInfo(path='dbfs:/mnt/silver/SalesLT/ProductDescription/', name='ProductDescription/', size=0, modificationTime=1724856129000)\n",
      "+----------------------+---------------+--------------------+-------------+\n",
      "|product_description_id|    description|             rowguid|modified_date|\n",
      "+----------------------+---------------+--------------------+-------------+\n",
      "|                     3|Chromoly steel.|301eed3a-1a82-485...|   2007-06-01|\n",
      "+----------------------+---------------+--------------------+-------------+\n",
      "only showing top 1 row\n",
      "\n",
      "FileInfo(path='dbfs:/mnt/silver/SalesLT/ProductModel/', name='ProductModel/', size=0, modificationTime=1724856131000)\n",
      "+----------------+------------+-------------------+--------------------+-------------+\n",
      "|product_model_id|        name|catalog_description|             rowguid|modified_date|\n",
      "+----------------+------------+-------------------+--------------------+-------------+\n",
      "|               1|Classic Vest|               NULL|29321d47-1e4c-4aa...|   2007-06-01|\n",
      "+----------------+------------+-------------------+--------------------+-------------+\n",
      "only showing top 1 row\n",
      "\n",
      "FileInfo(path='dbfs:/mnt/silver/SalesLT/ProductModelProductDescription/', name='ProductModelProductDescription/', size=0, modificationTime=1724856133000)\n",
      "+----------------+----------------------+-------+--------------------+-------------+\n",
      "|product_model_id|product_description_id|culture|             rowguid|modified_date|\n",
      "+----------------+----------------------+-------+--------------------+-------------+\n",
      "|               1|                  1199| en    |4d00b649-027a-4f9...|   2007-06-01|\n",
      "+----------------+----------------------+-------+--------------------+-------------+\n",
      "only showing top 1 row\n",
      "\n",
      "FileInfo(path='dbfs:/mnt/silver/SalesLT/SalesOrderDetail/', name='SalesOrderDetail/', size=0, modificationTime=1724856134000)\n",
      "+--------------+---------------------+---------+----------+----------+-------------------+----------+--------------------+-------------+\n",
      "|sales_order_id|sales_order_detail_id|order_qty|product_id|unit_price|unit_price_discount|line_total|             rowguid|modified_date|\n",
      "+--------------+---------------------+---------+----------+----------+-------------------+----------+--------------------+-------------+\n",
      "|         71774|               110562|        1|       836|  356.8980|             0.0000|356.898000|e3a1994c-7a68-4ce...|   2008-06-01|\n",
      "+--------------+---------------------+---------+----------+----------+-------------------+----------+--------------------+-------------+\n",
      "only showing top 1 row\n",
      "\n",
      "FileInfo(path='dbfs:/mnt/silver/SalesLT/SalesOrderHeader/', name='SalesOrderHeader/', size=0, modificationTime=1724856136000)\n",
      "+--------------+---------------+----------+----------+----------+------+-----------------+------------------+---------------------+--------------+-----------+------------------+------------------+-----------------+-------------------------+---------+-------+-------+---------+-------+--------------------+-------------+\n",
      "|sales_order_id|revision_number|order_date|  due_date| ship_date|status|online_order_flag|sales_order_number|purchase_order_number|account_number|customer_id|ship_to_address_id|bill_to_address_id|      ship_method|credit_card_approval_code|sub_total|tax_amt|freight|total_due|comment|             rowguid|modified_date|\n",
      "+--------------+---------------+----------+----------+----------+------+-----------------+------------------+---------------------+--------------+-----------+------------------+------------------+-----------------+-------------------------+---------+-------+-------+---------+-------+--------------------+-------------+\n",
      "|         71774|              2|2008-06-01|2008-06-13|2008-06-08|     5|            false|           SO71774|          PO348186287|10-4020-000609|      29847|              1092|              1092|CARGO TRANSPORT 5|                     NULL| 880.3484|70.4279|22.0087| 972.7850|   NULL|89e42cdc-8506-48a...|   2008-06-08|\n",
      "+--------------+---------------+----------+----------+----------+------+-----------------+------------------+---------------------+--------------+-----------+------------------+------------------+-----------------+-------------------------+---------+-------+-------+---------+-------+--------------------+-------------+\n",
      "only showing top 1 row\n",
      "\n"
     ]
    }
   ],
   "source": [
    "import re\n",
    "\n",
    "pattern = re.compile(r\"(?<=[a-z])(?=[A-Z])|(?<=[A-Z])(?=[A-Z][a-z])\")\n",
    "\n",
    "for file in dbutils.fs.ls(\"mnt/silver/SalesLT\"):\n",
    "    print(file)\n",
    "    df = spark.read.format(\"delta\").load(file.path)\n",
    "    for c in df.columns:\n",
    "        df = df.withColumnRenamed(c, pattern.sub('_', c).lower())\n",
    "    df.show(1)\n",
    "    df.write.format(\"delta\").mode(\"overwrite\").option(\"mergeSchema\", \"true\").save(f\"/mnt/gold/SalesLT/{file.name}/\")"
   ]
  }
 ],
 "metadata": {
  "application/vnd.databricks.v1+notebook": {
   "dashboards": [],
   "environmentMetadata": {
    "base_environment": "",
    "client": "1"
   },
   "language": "python",
   "notebookMetadata": {
    "pythonIndentUnit": 4
   },
   "notebookName": "silver to gold",
   "widgets": {}
  },
  "language_info": {
   "name": "python"
  }
 },
 "nbformat": 4,
 "nbformat_minor": 0
}
